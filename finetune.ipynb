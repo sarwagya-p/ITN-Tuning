{
 "cells": [
  {
   "cell_type": "code",
   "execution_count": null,
   "id": "96781e81-0912-4f7d-a2ce-96c4c184059a",
   "metadata": {
    "is_executing": true
   },
   "outputs": [],
   "source": [
    "!python -m pip install git+https://github.com/NVIDIA/NeMo.git@main#egg=nemo_toolkit[all]"
   ]
  },
  {
   "cell_type": "markdown",
   "id": "807827ca-168b-458b-8d98-1154372986ec",
   "metadata": {},
   "source": [
    "# Converting ChatGPT Text to tsv"
   ]
  },
  {
   "cell_type": "code",
   "execution_count": null,
   "id": "154663cf-884e-4afc-b395-565b692b26f4",
   "metadata": {
    "is_executing": true
   },
   "outputs": [],
   "source": [
    "import pandas as pd\n",
    "\n",
    "outData = pd.DataFrame(columns = [\"Written\", \"Spoken\"])\n",
    "\n",
    "with open(\"untitled.txt\", \"r\") as inputFile:\n",
    "    line = inputFile.readline()\n",
    "\n",
    "    while line:\n",
    "        i = 0\n",
    "        while line[i] != \".\":\n",
    "            i+= 1\n",
    "        num = str(line[:i])\n",
    "\n",
    "        i += 8\n",
    "        written = line[i:len(line)-1]\n",
    "\n",
    "        line = inputFile.readline()\n",
    "        i=0\n",
    "        while line[i] != 'S':\n",
    "            i+= 1\n",
    "        i += 8\n",
    "        spoken = line[i:len(line)-1]\n",
    "\n",
    "        outData.loc[len(outData)] = {\"Written\": written, \"Spoken\": spoken}\n",
    "        inputFile.readline()\n",
    "        line = inputFile.readline()\n",
    "\n",
    "print(outData)"
   ]
  },
  {
   "cell_type": "code",
   "execution_count": 21,
   "id": "f3e34a76-702a-455a-b359-d45f3b05a64c",
   "metadata": {},
   "outputs": [],
   "source": [
    "outData.to_csv(\"data.tsv\", mode='a', index=False, sep=\"\\t\")"
   ]
  },
  {
   "cell_type": "markdown",
   "id": "1df65990-a009-4730-80a6-b66d8c2f7130",
   "metadata": {},
   "source": [
    "# Preprocessing Data"
   ]
  },
  {
   "cell_type": "code",
   "execution_count": null,
   "id": "833deb3f-74c4-48cc-aaef-1b5ac00978c2",
   "metadata": {},
   "outputs": [],
   "source": []
  }
 ],
 "metadata": {
  "kernelspec": {
   "display_name": "Python 3 (ipykernel)",
   "language": "python",
   "name": "python3"
  },
  "language_info": {
   "codemirror_mode": {
    "name": "ipython",
    "version": 3
   },
   "file_extension": ".py",
   "mimetype": "text/x-python",
   "name": "python",
   "nbconvert_exporter": "python",
   "pygments_lexer": "ipython3",
   "version": "3.10.6"
  }
 },
 "nbformat": 4,
 "nbformat_minor": 5
}
