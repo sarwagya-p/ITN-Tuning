{
 "cells": [
  {
   "attachments": {},
   "cell_type": "markdown",
   "metadata": {},
   "source": [
    "# Setting Up openai and requirements"
   ]
  },
  {
   "cell_type": "code",
   "execution_count": 2,
   "metadata": {},
   "outputs": [],
   "source": [
    "import os\n",
    "from dotenv import load_dotenv\n",
    "\n",
    "project_dir = os.path.expanduser(\"~/ITN-Tuning\")\n",
    "load_dotenv(os.path.join(project_dir, \".env\"))\n",
    "\n",
    "openai_API_Key = os.getenv(\"OPENAI-API-KEY\")\n",
    "\n",
    "import openai\n",
    "\n",
    "openai.api_key = openai_API_Key"
   ]
  },
  {
   "cell_type": "code",
   "execution_count": 5,
   "metadata": {},
   "outputs": [],
   "source": [
    "with open(\"ChatGPT_context.txt\", \"r\") as contextFile:\n",
    "    context = contextFile.read()\n",
    "\n",
    "messages = [\n",
    "    {\"role\": \"user\", \"content\": context},\n",
    "    {\"role\": \"user\", \"content\": \"Generate 10 phrase pairs aligned and labelled in tab separated format\"}\n",
    "    ]\n",
    "\n",
    "response = openai.ChatCompletion.create(\n",
    "    model=\"gpt-3.5-turbo\",\n",
    "    temperature = 1.5,\n",
    "    messages=messages,\n",
    ")\n",
    "\n",
    "with open(input(), \"w\") as outputFile:\n",
    "    outputFile.write(response.choices[0].message[\"content\"])"
   ]
  },
  {
   "cell_type": "code",
   "execution_count": null,
   "metadata": {},
   "outputs": [],
   "source": []
  }
 ],
 "metadata": {
  "kernelspec": {
   "display_name": "workspace",
   "language": "python",
   "name": "python3"
  },
  "language_info": {
   "codemirror_mode": {
    "name": "ipython",
    "version": 3
   },
   "file_extension": ".py",
   "mimetype": "text/x-python",
   "name": "python",
   "nbconvert_exporter": "python",
   "pygments_lexer": "ipython3",
   "version": "3.10.6"
  },
  "orig_nbformat": 4
 },
 "nbformat": 4,
 "nbformat_minor": 2
}
